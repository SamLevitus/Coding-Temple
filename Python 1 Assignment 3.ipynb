{
 "cells": [
  {
   "attachments": {},
   "cell_type": "markdown",
   "metadata": {},
   "source": [
    "# Coding Temple's Data Analytics Program\n",
    "---\n",
    "## Python 1 Assignment 3\n",
    "---"
   ]
  },
  {
   "attachments": {},
   "cell_type": "markdown",
   "metadata": {},
   "source": [
    "### **Task 1: Build a Shopping Cart**\n",
    "**You can use either lists or dictionaries. The program should have the following capabilites:**\n",
    "* Takes a string as an input\n",
    "* Stores user input in a dictionary or list\n",
    "* Users should be able to:\n",
    "    * Add Items\n",
    "    * Delete Items\n",
    "    * See current shopping cart\n",
    "* The program should loop until user 'quits'\n",
    "* Upon quitting the program, print out all items in the user's list"
   ]
  },
  {
   "cell_type": "code",
   "execution_count": 43,
   "metadata": {},
   "outputs": [
    {
     "name": "stdout",
     "output_type": "stream",
     "text": [
      "Your shopping cart:\n",
      "{'milk': 2}\n"
     ]
    }
   ],
   "source": [
    "from IPython.display import clear_output\n",
    "\n",
    "# Ask the user 5 bits of input: Do you want to : Show/Add/Delete/clear or Quit?\n",
    "foods = {}\n",
    "\n",
    "def shopping_cart():\n",
    "\n",
    "        while True:\n",
    "\n",
    "            food_item = input(\"What item would you like to add? Type 'quit' to quit.\")\n",
    "            if food_item.lower() == 'quit':\n",
    "                break\n",
    "            item_quantity = input(\"How many would you like to add? Type 'quit' to quit.\")\n",
    "            if item_quantity.lower() == 'quit':\n",
    "                break\n",
    "            foods[food_item] = int(item_quantity)\n",
    "                \n",
    "            delete_item = input(\"Would you like to delete an item? If so, please enter item name. Otherwise, enter 'no'. Type 'quit' to quit.\")    \n",
    "            if delete_item.lower() == 'quit':\n",
    "                break\n",
    "            if delete_item.lower() in foods:\n",
    "                del foods[delete_item] \n",
    "                \n",
    "            view_items = input(\"Would you like to view all items? Type 'yes' to view or press enter.  Type 'quit' to quit.\")\n",
    "            if view_items.lower() == 'quit':\n",
    "                break\n",
    "            if view_items.lower() == 'yes':\n",
    "                print(foods)\n",
    "                \n",
    "            clear_cart = input(\"Would you like to clear your cart? Type 'yes' to clear or 'quit' to quit.\")\n",
    "            if clear_cart.lower() == 'quit':\n",
    "                break\n",
    "            if clear_cart.lower() == 'yes':\n",
    "                foods.clear()\n",
    "                clear_output()\n",
    "                       \n",
    "shopping_cart()\n",
    "clear_output()     \n",
    "print(\"Your shopping cart:\")\n",
    "print(foods)"
   ]
  },
  {
   "cell_type": "code",
   "execution_count": null,
   "metadata": {},
   "outputs": [],
   "source": []
  },
  {
   "attachments": {},
   "cell_type": "markdown",
   "metadata": {},
   "source": [
    "### **Task 2: Create a Module and Import it**\n",
    "Create a Module in VS Code and import it into a Notebook. Use each of the functions you build in your module\n",
    "\n",
    "**Your module should have the following capabilities:**\n",
    "* Has a function to calculate the square footage of a house\n",
    "* Has a function to calculate the circumference of a circle\n",
    "* Has a function to change feet to inches"
   ]
  },
  {
   "cell_type": "code",
   "execution_count": 4,
   "metadata": {},
   "outputs": [
    {
     "data": {
      "text/plain": [
       "9.42"
      ]
     },
     "execution_count": 4,
     "metadata": {},
     "output_type": "execute_result"
    }
   ],
   "source": [
    "import test\n",
    "\n",
    "test.area_of_a_circle(3)"
   ]
  },
  {
   "attachments": {},
   "cell_type": "markdown",
   "metadata": {},
   "source": [
    "### **Task 3.1: Lists**\n",
    "Create 4 lists. Two of these lists should be keys, two of these lists should be values"
   ]
  },
  {
   "cell_type": "code",
   "execution_count": 7,
   "metadata": {},
   "outputs": [],
   "source": [
    "l1 = [1,2,3,4]\n",
    "l2 = [5,6,7,8]\n",
    "l3 = ['a','b','c','d']\n",
    "l4 = ['e','f','g','h']"
   ]
  },
  {
   "attachments": {},
   "cell_type": "markdown",
   "metadata": {},
   "source": [
    "### **Task 3.2: Create a function that converts two lists into a dictionary, then merges two dictionaries into one.**\n",
    "\n",
    "Using your 4 lists, create a function which combines the keys lists with the values lists into a dictionary, then merges and returns the two dictionaries together."
   ]
  },
  {
   "cell_type": "code",
   "execution_count": 6,
   "metadata": {},
   "outputs": [
    {
     "name": "stdout",
     "output_type": "stream",
     "text": [
      "{1: 'a', 2: 'b', 3: 'c', 4: 'd'} {5: 'e', 6: 'f', 7: 'g', 8: 'h'}\n"
     ]
    },
    {
     "data": {
      "text/plain": [
       "{1: 'a', 2: 'b', 3: 'c', 4: 'd', 5: 'e', 6: 'f', 7: 'g', 8: 'h'}"
      ]
     },
     "execution_count": 6,
     "metadata": {},
     "output_type": "execute_result"
    }
   ],
   "source": [
    "l1 = [1,2,3,4]\n",
    "l3 = [5,6,7,8]\n",
    "l2 = ['a','b','c','d']\n",
    "l4 = ['e','f','g','h']\n",
    "\n",
    "def convert_dict():\n",
    "   \n",
    "    d3 = dict(zip(l1,l2))\n",
    "    d4 = dict(zip(l3,l4))\n",
    "    print(d3,d4)\n",
    "    return(d3|d4)\n",
    "\n",
    "    \n",
    "    print(convert_dict(d3,d4))\n",
    "     \n",
    "convert_dict()\n",
    "        "
   ]
  },
  {
   "cell_type": "code",
   "execution_count": null,
   "metadata": {},
   "outputs": [],
   "source": []
  }
 ],
 "metadata": {
  "kernelspec": {
   "display_name": "Python 3",
   "language": "python",
   "name": "python3"
  },
  "language_info": {
   "codemirror_mode": {
    "name": "ipython",
    "version": 3
   },
   "file_extension": ".py",
   "mimetype": "text/x-python",
   "name": "python",
   "nbconvert_exporter": "python",
   "pygments_lexer": "ipython3",
   "version": "3.11.2"
  },
  "orig_nbformat": 4,
  "vscode": {
   "interpreter": {
    "hash": "26de051ba29f2982a8de78e945f0abaf191376122a1563185a90213a26c5da77"
   }
  }
 },
 "nbformat": 4,
 "nbformat_minor": 2
}
