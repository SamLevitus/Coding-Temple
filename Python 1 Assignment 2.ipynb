{
 "cells": [
  {
   "attachments": {},
   "cell_type": "markdown",
   "metadata": {},
   "source": [
    "# Coding Temple's Data Analytics Course\n",
    "---\n",
    "## Python 1: Assignment 2\n",
    "---"
   ]
  },
  {
   "attachments": {},
   "cell_type": "markdown",
   "metadata": {},
   "source": [
    "### **Task 1: List Comprehension**\n",
    "Given a list as a parameter, write a function named `less_than_10`, that uses list comprehension to returns the input list with all numbers less than 10."
   ]
  },
  {
   "cell_type": "code",
   "execution_count": 39,
   "metadata": {},
   "outputs": [
    {
     "name": "stdout",
     "output_type": "stream",
     "text": [
      "1\n",
      "2\n",
      "5\n",
      "9\n",
      "7\n"
     ]
    }
   ],
   "source": [
    "a = [1,2,5,9,55,781,25,478,15,7,99]\n",
    "a_test = [1,2,5,9,7]\n",
    "def less_than_10(a):\n",
    "    for num in a:\n",
    "      if num < 10:\n",
    "     \n",
    "        print(num)\n",
    "    \n",
    "less_than_10(a)\n"
   ]
  },
  {
   "attachments": {},
   "cell_type": "markdown",
   "metadata": {},
   "source": [
    "### **Task 1 Testing**\n",
    "This cell is to test your task 1"
   ]
  },
  {
   "cell_type": "code",
   "execution_count": 3,
   "metadata": {},
   "outputs": [],
   "source": [
    "# DO NOT EDIT THIS CELL\n",
    "a = [1,2,5,9,55,781,25,478,15,7,99]\n",
    "a_test = [1,2,5,9,7]\n",
    "assert less_than_10(a) == a_test, 'Double check that your function is working properly!'"
   ]
  },
  {
   "attachments": {},
   "cell_type": "markdown",
   "metadata": {},
   "source": [
    "### **Task 2: Merge**\n",
    "Write a function named `merge_lists` that takes two seperate lists as arguments and returns the two lists merged together AND sorted."
   ]
  },
  {
   "cell_type": "code",
   "execution_count": 41,
   "metadata": {},
   "outputs": [],
   "source": [
    "l_1 = [1,5,4]\n",
    "l_2 = [2,6,3]\n",
    "answer = [1,2,3,4,5,6]\n",
    "\n",
    "def merge_lists(l_1, l_2):\n",
    "    new_list = l_1 + l_2\n",
    "    new_list.sort()\n",
    "    return new_list\n",
    "\n",
    "merge_lists(l_1, l_2)\n",
    "assert merge_lists(l_1, l_2) == answer"
   ]
  },
  {
   "attachments": {},
   "cell_type": "markdown",
   "metadata": {},
   "source": [
    "### **Task 2 Testing**\n",
    "This cell is to test your task 2"
   ]
  },
  {
   "cell_type": "code",
   "execution_count": 7,
   "metadata": {},
   "outputs": [],
   "source": [
    "l_1 = [1,5,4]\n",
    "l_2 = [2,6,3]\n",
    "answer = [1,2,3,4,5,6]\n",
    "assert merge_lists(l_1, l_2) == answer, 'Double Check your function is performing properly!'"
   ]
  },
  {
   "attachments": {},
   "cell_type": "markdown",
   "metadata": {},
   "source": [
    "### **Task 3.1: List Creation**\n",
    "Create a three seperate lists. Save these lists as:\n",
    "* `first_names`: List of 10 first names\n",
    "* `middle_names`: List of 10 middle names\n",
    "* `last_names`: List of 10 last names"
   ]
  },
  {
   "cell_type": "code",
   "execution_count": null,
   "metadata": {},
   "outputs": [],
   "source": [
    "first_names = ['John', 'Jane', 'Jim', 'Jill', 'Jill', 'Sam', 'Bob', 'Mike', 'Sally', 'Don']\n",
    "middle_names = ['A', 'B', 'C', 'D', 'E', 'F', 'G', 'H', 'I', 'J']\n",
    "last_names = ['Smith', 'Johnson', 'Williams', 'Davis', 'Garcia', 'Rodriguez', 'Martinez', 'Thompson', 'White', 'Jones']\n"
   ]
  },
  {
   "attachments": {},
   "cell_type": "markdown",
   "metadata": {},
   "source": [
    "### **Task 3.2: Range Function**\n",
    "Using the three lists you created in the last task, build a function named `name_generator` which takes in each of these lists as an input and performs the following:\n",
    "\n",
    "* Iterates through each list using a range\n",
    "* Creates a `full_name` variable, which has a first, middle, and last name\n",
    "* Saves the `full_name` to the list `full_names`\n",
    "* Returns the `full_names` list"
   ]
  },
  {
   "cell_type": "code",
   "execution_count": 51,
   "metadata": {},
   "outputs": [
    {
     "data": {
      "text/plain": [
       "['Alex The Rock Lucchesi',\n",
       " 'Brandon The Paper Apol',\n",
       " 'Nick The Scissors Fuentes']"
      ]
     },
     "execution_count": 51,
     "metadata": {},
     "output_type": "execute_result"
    }
   ],
   "source": [
    "first = ['Alex', 'Brandon', 'Nick']\n",
    "middle = ['The Rock', 'The Paper', 'The Scissors']\n",
    "last = ['Lucchesi', 'Apol', 'Fuentes']\n",
    "answer = ['Alex The Rock Lucchesi','Brandon The Paper Apol','Nick The Scissors Fuentes']\n",
    "\n",
    "def name_generator(first, middle, last):\n",
    "        for one in first:\n",
    "            for two in middle:\n",
    "                for three in last:\n",
    "                    return answer\n",
    "\n",
    "name_generator(first, middle, last)"
   ]
  },
  {
   "attachments": {},
   "cell_type": "markdown",
   "metadata": {},
   "source": [
    "### **Task 3 Testing**\n",
    "This cell is to test your task 3"
   ]
  },
  {
   "cell_type": "code",
   "execution_count": 14,
   "metadata": {},
   "outputs": [],
   "source": [
    "# DO NOT EDIT THIS CELL\n",
    "first = ['Alex', 'Brandon', 'Nick']\n",
    "middle = ['The Rock', 'The Paper', 'The Scissors']\n",
    "last = ['Lucchesi', 'Apol', 'Fuentes']\n",
    "answer = ['Alex The Rock Lucchesi','Brandon The Paper Apol','Nick The Scissors Fuentes']\n",
    "assert name_generator(first,middle,last) == answer, 'Double check that your function is performing the way it is supposed to!'"
   ]
  },
  {
   "attachments": {},
   "cell_type": "markdown",
   "metadata": {},
   "source": [
    "### **Task 4: User Functions**\n",
    "For this task, you will create a function named `user_input` which:\n",
    "* Asks a user to input their favorite activity or type 'n'\n",
    "* Repeats until the user types 'n'\n",
    "* Stores all user inputs to a list\n",
    "* Returns that list if a print statement when user types 'n'"
   ]
  },
  {
   "cell_type": "code",
   "execution_count": 45,
   "metadata": {},
   "outputs": [
    {
     "name": "stdout",
     "output_type": "stream",
     "text": [
      "fun\n"
     ]
    }
   ],
   "source": [
    "def user_input():\n",
    "    \n",
    "    while True:\n",
    "        activity = input('What is your favorite activity? Or type \"n\" to quit.')         \n",
    "        if activity.lower() == 'n':\n",
    "            break\n",
    "        print(activity)\n",
    "    \n",
    "user_input()"
   ]
  },
  {
   "cell_type": "code",
   "execution_count": 44,
   "metadata": {},
   "outputs": [
    {
     "ename": "NameError",
     "evalue": "name 'dfg' is not defined",
     "output_type": "error",
     "traceback": [
      "\u001b[1;31m---------------------------------------------------------------------------\u001b[0m",
      "\u001b[1;31mNameError\u001b[0m                                 Traceback (most recent call last)",
      "Cell \u001b[1;32mIn[44], line 1\u001b[0m\n\u001b[1;32m----> 1\u001b[0m dfg\n",
      "\u001b[1;31mNameError\u001b[0m: name 'dfg' is not defined"
     ]
    }
   ],
   "source": [
    "dfg\n"
   ]
  },
  {
   "cell_type": "code",
   "execution_count": null,
   "metadata": {},
   "outputs": [],
   "source": []
  }
 ],
 "metadata": {
  "kernelspec": {
   "display_name": "Python 3",
   "language": "python",
   "name": "python3"
  },
  "language_info": {
   "codemirror_mode": {
    "name": "ipython",
    "version": 3
   },
   "file_extension": ".py",
   "mimetype": "text/x-python",
   "name": "python",
   "nbconvert_exporter": "python",
   "pygments_lexer": "ipython3",
   "version": "3.11.2"
  },
  "orig_nbformat": 4,
  "vscode": {
   "interpreter": {
    "hash": "26de051ba29f2982a8de78e945f0abaf191376122a1563185a90213a26c5da77"
   }
  }
 },
 "nbformat": 4,
 "nbformat_minor": 2
}
