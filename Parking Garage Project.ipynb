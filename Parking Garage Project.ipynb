{
 "cells": [
  {
   "cell_type": "markdown",
   "metadata": {},
   "source": [
    "# Parking Garage Project\n",
    "\n",
    "Your assignment for today is to create a parking garage class to get more familiar with Object Oriented Programming(OOP). \n",
    "\n",
    "Your parking gargage class should have the following methods:\n",
    "- takeTicket\n",
    "   - This should decrease the amount of tickets available by 1\n",
    "   - This should decrease the amount of parkingSpaces available by 1\n",
    "- payForParking\n",
    "   - Display an input that waits for an amount from the user and store it in a variable\n",
    "   - If the payment variable is not empty then ->  display a message to the user that their ticket has been paid and they have 15mins to leave\n",
    "   - This should update the \"currentTicket\" dictionary key \"paid\" to True\n",
    "-leaveGarage\n",
    "   - If the ticket has been paid, display a message of \"Thank You, have a nice day\"\n",
    "   - If the ticket has not been paid, display an input prompt for payment\n",
    "      - Once paid, display message \"Thank you, have a nice day!\"\n",
    "   - Update parkingSpaces list to increase by 1\n",
    "   - Update tickets list to increase by 1\n",
    "\n",
    "You will need a few attributes as well:\n",
    "- tickets -> list\n",
    "- parkingSpaces -> list\n",
    "- currentTicket -> dictionary"
   ]
  },
  {
   "cell_type": "code",
   "execution_count": 97,
   "metadata": {},
   "outputs": [],
   "source": [
    "\n",
    "class Garage():\n",
    "\n",
    "    \n",
    "        def __init__(self, tickets, parking_spaces):\n",
    "            self.tickets = 5\n",
    "            self.parking_spaces = 5\n",
    "            self.current_ticket = {}\n",
    "          \n",
    "        \n",
    "        def takeTicket(self):\n",
    "            self.tickets -= 1\n",
    "            self.parking_spaces -= 1\n",
    "                                                    \n",
    "        def payForParking(self):\n",
    "            self.paid = input(\"Please enter the '5' to pay for parking: \")\n",
    "            if int(self.paid) == 5:\n",
    "                print(\"Your ticket has been paid, you have 15 min to leave the garage\")\n",
    "                print('Thank you, have a nice day!')\n",
    "                self.tickets += 1\n",
    "                self.parking_spaces += 1\n",
    "            if int(self.paid) != 5:\n",
    "                prompt_again = input(\"Please pay for your ticket... \")\n",
    "                if prompt_again == 5:\n",
    "                    print(\"Your ticket has been paid, you have 15 min to leave the garage\")\n",
    "                    print('Thank you, have a nice day!')\n",
    "                    self.tickets += 1\n",
    "                    self.parking_spaces += 1\n",
    "\n",
    "    \n"
   ]
  },
  {
   "cell_type": "code",
   "execution_count": 98,
   "metadata": {},
   "outputs": [
    {
     "name": "stdout",
     "output_type": "stream",
     "text": [
      "Please take your ticket.\n",
      "Your ticket has been paid, you have 15 min to leave the garage\n",
      "Thank you, have a nice day!\n",
      "Please exit the garage.\n"
     ]
    }
   ],
   "source": [
    "parking_garage = Garage(5, 5)\n",
    "\n",
    "def run():\n",
    "    while True:\n",
    "        enter_garage = input('Would you like to park? (y/n): ')\n",
    "        if enter_garage == 'n':\n",
    "            print('Please exit the garage.')\n",
    "            break\n",
    "        elif enter_garage == 'y':\n",
    "            print('Please take your ticket.')\n",
    "            parking_garage.takeTicket()\n",
    "        leave_garage = input('Would you like to pay for your ticket? (y/n): ')\n",
    "        if leave_garage == 'n':\n",
    "            print('Please pay for your ticket.')\n",
    "        elif leave_garage == 'y':\n",
    "            parking_garage.payForParking()\n",
    "\n",
    "run()\n",
    "            "
   ]
  },
  {
   "cell_type": "code",
   "execution_count": null,
   "metadata": {},
   "outputs": [],
   "source": []
  }
 ],
 "metadata": {
  "kernelspec": {
   "display_name": "Python 3",
   "language": "python",
   "name": "python3"
  },
  "language_info": {
   "codemirror_mode": {
    "name": "ipython",
    "version": 3
   },
   "file_extension": ".py",
   "mimetype": "text/x-python",
   "name": "python",
   "nbconvert_exporter": "python",
   "pygments_lexer": "ipython3",
   "version": "3.11.2"
  }
 },
 "nbformat": 4,
 "nbformat_minor": 2
}
